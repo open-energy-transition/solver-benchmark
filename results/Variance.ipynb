{
 "cells": [
  {
   "cell_type": "markdown",
   "metadata": {},
   "source": [
    "# Investigating variance in runtime / memory consumption\n",
    "\n",
    "I ran all solvers on the 2 smallest benchmarks 10 times to see how much variance there was in the metrics."
   ]
  },
  {
   "cell_type": "code",
   "execution_count": 1,
   "metadata": {},
   "outputs": [],
   "source": [
    "import pandas as pd\n",
    "import plotly.express as px"
   ]
  },
  {
   "cell_type": "code",
   "execution_count": 14,
   "metadata": {},
   "outputs": [
    {
     "data": {
      "text/html": [
       "<div>\n",
       "<style scoped>\n",
       "    .dataframe tbody tr th:only-of-type {\n",
       "        vertical-align: middle;\n",
       "    }\n",
       "\n",
       "    .dataframe tbody tr th {\n",
       "        vertical-align: top;\n",
       "    }\n",
       "\n",
       "    .dataframe thead th {\n",
       "        text-align: right;\n",
       "    }\n",
       "</style>\n",
       "<table border=\"1\" class=\"dataframe\">\n",
       "  <thead>\n",
       "    <tr style=\"text-align: right;\">\n",
       "      <th></th>\n",
       "      <th>Benchmark</th>\n",
       "      <th>Solver</th>\n",
       "      <th>Status</th>\n",
       "      <th>Termination Condition</th>\n",
       "      <th>Objective Value</th>\n",
       "      <th>Runtime (s)</th>\n",
       "      <th>Memory Usage (MB)</th>\n",
       "    </tr>\n",
       "  </thead>\n",
       "  <tbody>\n",
       "    <tr>\n",
       "      <th>0</th>\n",
       "      <td>pypsa-wind+sol+ely-1h-ucwind</td>\n",
       "      <td>gurobi</td>\n",
       "      <td>ok</td>\n",
       "      <td>optimal</td>\n",
       "      <td>3.139636e+11</td>\n",
       "      <td>5.985078</td>\n",
       "      <td>408.528</td>\n",
       "    </tr>\n",
       "    <tr>\n",
       "      <th>1</th>\n",
       "      <td>pypsa-wind+sol+ely-1h-ucwind</td>\n",
       "      <td>gurobi</td>\n",
       "      <td>ok</td>\n",
       "      <td>optimal</td>\n",
       "      <td>3.139636e+11</td>\n",
       "      <td>5.521643</td>\n",
       "      <td>396.212</td>\n",
       "    </tr>\n",
       "    <tr>\n",
       "      <th>2</th>\n",
       "      <td>pypsa-wind+sol+ely-1h-ucwind</td>\n",
       "      <td>gurobi</td>\n",
       "      <td>ok</td>\n",
       "      <td>optimal</td>\n",
       "      <td>3.139636e+11</td>\n",
       "      <td>5.608232</td>\n",
       "      <td>396.228</td>\n",
       "    </tr>\n",
       "    <tr>\n",
       "      <th>3</th>\n",
       "      <td>pypsa-wind+sol+ely-1h-ucwind</td>\n",
       "      <td>gurobi</td>\n",
       "      <td>ok</td>\n",
       "      <td>optimal</td>\n",
       "      <td>3.139636e+11</td>\n",
       "      <td>5.632786</td>\n",
       "      <td>401.760</td>\n",
       "    </tr>\n",
       "    <tr>\n",
       "      <th>4</th>\n",
       "      <td>pypsa-wind+sol+ely-1h-ucwind</td>\n",
       "      <td>gurobi</td>\n",
       "      <td>ok</td>\n",
       "      <td>optimal</td>\n",
       "      <td>3.139636e+11</td>\n",
       "      <td>5.560092</td>\n",
       "      <td>405.600</td>\n",
       "    </tr>\n",
       "    <tr>\n",
       "      <th>...</th>\n",
       "      <td>...</td>\n",
       "      <td>...</td>\n",
       "      <td>...</td>\n",
       "      <td>...</td>\n",
       "      <td>...</td>\n",
       "      <td>...</td>\n",
       "      <td>...</td>\n",
       "    </tr>\n",
       "    <tr>\n",
       "      <th>75</th>\n",
       "      <td>pypsa-wind+sol+ely-1h</td>\n",
       "      <td>scip</td>\n",
       "      <td>ok</td>\n",
       "      <td>optimal</td>\n",
       "      <td>8.466753e+10</td>\n",
       "      <td>209.339396</td>\n",
       "      <td>719.224</td>\n",
       "    </tr>\n",
       "    <tr>\n",
       "      <th>76</th>\n",
       "      <td>pypsa-wind+sol+ely-1h</td>\n",
       "      <td>scip</td>\n",
       "      <td>ok</td>\n",
       "      <td>optimal</td>\n",
       "      <td>8.466753e+10</td>\n",
       "      <td>209.296401</td>\n",
       "      <td>717.900</td>\n",
       "    </tr>\n",
       "    <tr>\n",
       "      <th>77</th>\n",
       "      <td>pypsa-wind+sol+ely-1h</td>\n",
       "      <td>scip</td>\n",
       "      <td>ok</td>\n",
       "      <td>optimal</td>\n",
       "      <td>8.466753e+10</td>\n",
       "      <td>209.478274</td>\n",
       "      <td>721.768</td>\n",
       "    </tr>\n",
       "    <tr>\n",
       "      <th>78</th>\n",
       "      <td>pypsa-wind+sol+ely-1h</td>\n",
       "      <td>scip</td>\n",
       "      <td>ok</td>\n",
       "      <td>optimal</td>\n",
       "      <td>8.466753e+10</td>\n",
       "      <td>210.108862</td>\n",
       "      <td>719.096</td>\n",
       "    </tr>\n",
       "    <tr>\n",
       "      <th>79</th>\n",
       "      <td>pypsa-wind+sol+ely-1h</td>\n",
       "      <td>scip</td>\n",
       "      <td>ok</td>\n",
       "      <td>optimal</td>\n",
       "      <td>8.466753e+10</td>\n",
       "      <td>213.969467</td>\n",
       "      <td>716.624</td>\n",
       "    </tr>\n",
       "  </tbody>\n",
       "</table>\n",
       "<p>80 rows × 7 columns</p>\n",
       "</div>"
      ],
      "text/plain": [
       "                       Benchmark  Solver Status Termination Condition  \\\n",
       "0   pypsa-wind+sol+ely-1h-ucwind  gurobi     ok               optimal   \n",
       "1   pypsa-wind+sol+ely-1h-ucwind  gurobi     ok               optimal   \n",
       "2   pypsa-wind+sol+ely-1h-ucwind  gurobi     ok               optimal   \n",
       "3   pypsa-wind+sol+ely-1h-ucwind  gurobi     ok               optimal   \n",
       "4   pypsa-wind+sol+ely-1h-ucwind  gurobi     ok               optimal   \n",
       "..                           ...     ...    ...                   ...   \n",
       "75         pypsa-wind+sol+ely-1h    scip     ok               optimal   \n",
       "76         pypsa-wind+sol+ely-1h    scip     ok               optimal   \n",
       "77         pypsa-wind+sol+ely-1h    scip     ok               optimal   \n",
       "78         pypsa-wind+sol+ely-1h    scip     ok               optimal   \n",
       "79         pypsa-wind+sol+ely-1h    scip     ok               optimal   \n",
       "\n",
       "    Objective Value  Runtime (s)  Memory Usage (MB)  \n",
       "0      3.139636e+11     5.985078            408.528  \n",
       "1      3.139636e+11     5.521643            396.212  \n",
       "2      3.139636e+11     5.608232            396.228  \n",
       "3      3.139636e+11     5.632786            401.760  \n",
       "4      3.139636e+11     5.560092            405.600  \n",
       "..              ...          ...                ...  \n",
       "75     8.466753e+10   209.339396            719.224  \n",
       "76     8.466753e+10   209.296401            717.900  \n",
       "77     8.466753e+10   209.478274            721.768  \n",
       "78     8.466753e+10   210.108862            719.096  \n",
       "79     8.466753e+10   213.969467            716.624  \n",
       "\n",
       "[80 rows x 7 columns]"
      ]
     },
     "execution_count": 14,
     "metadata": {},
     "output_type": "execute_result"
    }
   ],
   "source": [
    "# NOTE this used the results from commit `9e6d959`\n",
    "data_file = \"./benchmark_results.csv\"  # NOTE relative path!\n",
    "df = pd.read_csv(data_file)\n",
    "df"
   ]
  },
  {
   "cell_type": "code",
   "execution_count": 15,
   "metadata": {},
   "outputs": [
    {
     "data": {
      "application/vnd.plotly.v1+json": {
       "config": {
        "plotlyServerURL": "https://plot.ly"
       },
       "data": [
        {
         "alignmentgroup": "True",
         "box": {
          "visible": true
         },
         "hovertemplate": "Benchmark - Solver=%{x}<br>Runtime (s)=%{y}<extra></extra>",
         "legendgroup": "",
         "marker": {
          "color": "#636efa"
         },
         "name": "",
         "offsetgroup": "",
         "orientation": "v",
         "points": "all",
         "scalegroup": "True",
         "showlegend": false,
         "type": "violin",
         "x": [
          "pypsa-wind+sol+ely-1h-ucwind - gurobi",
          "pypsa-wind+sol+ely-1h-ucwind - gurobi",
          "pypsa-wind+sol+ely-1h-ucwind - gurobi",
          "pypsa-wind+sol+ely-1h-ucwind - gurobi",
          "pypsa-wind+sol+ely-1h-ucwind - gurobi",
          "pypsa-wind+sol+ely-1h-ucwind - gurobi",
          "pypsa-wind+sol+ely-1h-ucwind - gurobi",
          "pypsa-wind+sol+ely-1h-ucwind - gurobi",
          "pypsa-wind+sol+ely-1h-ucwind - gurobi",
          "pypsa-wind+sol+ely-1h-ucwind - gurobi",
          "pypsa-wind+sol+ely-1h-ucwind - highs",
          "pypsa-wind+sol+ely-1h-ucwind - highs",
          "pypsa-wind+sol+ely-1h-ucwind - highs",
          "pypsa-wind+sol+ely-1h-ucwind - highs",
          "pypsa-wind+sol+ely-1h-ucwind - highs",
          "pypsa-wind+sol+ely-1h-ucwind - highs",
          "pypsa-wind+sol+ely-1h-ucwind - highs",
          "pypsa-wind+sol+ely-1h-ucwind - highs",
          "pypsa-wind+sol+ely-1h-ucwind - highs",
          "pypsa-wind+sol+ely-1h-ucwind - highs",
          "pypsa-wind+sol+ely-1h-ucwind - glpk",
          "pypsa-wind+sol+ely-1h-ucwind - glpk",
          "pypsa-wind+sol+ely-1h-ucwind - glpk",
          "pypsa-wind+sol+ely-1h-ucwind - glpk",
          "pypsa-wind+sol+ely-1h-ucwind - glpk",
          "pypsa-wind+sol+ely-1h-ucwind - glpk",
          "pypsa-wind+sol+ely-1h-ucwind - glpk",
          "pypsa-wind+sol+ely-1h-ucwind - glpk",
          "pypsa-wind+sol+ely-1h-ucwind - glpk",
          "pypsa-wind+sol+ely-1h-ucwind - glpk",
          "pypsa-wind+sol+ely-1h-ucwind - scip",
          "pypsa-wind+sol+ely-1h-ucwind - scip",
          "pypsa-wind+sol+ely-1h-ucwind - scip",
          "pypsa-wind+sol+ely-1h-ucwind - scip",
          "pypsa-wind+sol+ely-1h-ucwind - scip",
          "pypsa-wind+sol+ely-1h-ucwind - scip",
          "pypsa-wind+sol+ely-1h-ucwind - scip",
          "pypsa-wind+sol+ely-1h-ucwind - scip",
          "pypsa-wind+sol+ely-1h-ucwind - scip",
          "pypsa-wind+sol+ely-1h-ucwind - scip",
          "pypsa-wind+sol+ely-1h - gurobi",
          "pypsa-wind+sol+ely-1h - gurobi",
          "pypsa-wind+sol+ely-1h - gurobi",
          "pypsa-wind+sol+ely-1h - gurobi",
          "pypsa-wind+sol+ely-1h - gurobi",
          "pypsa-wind+sol+ely-1h - gurobi",
          "pypsa-wind+sol+ely-1h - gurobi",
          "pypsa-wind+sol+ely-1h - gurobi",
          "pypsa-wind+sol+ely-1h - gurobi",
          "pypsa-wind+sol+ely-1h - gurobi",
          "pypsa-wind+sol+ely-1h - highs",
          "pypsa-wind+sol+ely-1h - highs",
          "pypsa-wind+sol+ely-1h - highs",
          "pypsa-wind+sol+ely-1h - highs",
          "pypsa-wind+sol+ely-1h - highs",
          "pypsa-wind+sol+ely-1h - highs",
          "pypsa-wind+sol+ely-1h - highs",
          "pypsa-wind+sol+ely-1h - highs",
          "pypsa-wind+sol+ely-1h - highs",
          "pypsa-wind+sol+ely-1h - highs",
          "pypsa-wind+sol+ely-1h - glpk",
          "pypsa-wind+sol+ely-1h - glpk",
          "pypsa-wind+sol+ely-1h - glpk",
          "pypsa-wind+sol+ely-1h - glpk",
          "pypsa-wind+sol+ely-1h - glpk",
          "pypsa-wind+sol+ely-1h - glpk",
          "pypsa-wind+sol+ely-1h - glpk",
          "pypsa-wind+sol+ely-1h - glpk",
          "pypsa-wind+sol+ely-1h - glpk",
          "pypsa-wind+sol+ely-1h - glpk",
          "pypsa-wind+sol+ely-1h - scip",
          "pypsa-wind+sol+ely-1h - scip",
          "pypsa-wind+sol+ely-1h - scip",
          "pypsa-wind+sol+ely-1h - scip",
          "pypsa-wind+sol+ely-1h - scip",
          "pypsa-wind+sol+ely-1h - scip",
          "pypsa-wind+sol+ely-1h - scip",
          "pypsa-wind+sol+ely-1h - scip",
          "pypsa-wind+sol+ely-1h - scip",
          "pypsa-wind+sol+ely-1h - scip"
         ],
         "x0": " ",
         "xaxis": "x",
         "y": [
          5.985077857971191,
          5.521643400192261,
          5.608231782913208,
          5.6327855587005615,
          5.560091972351074,
          5.567425012588501,
          5.747780561447144,
          5.595850467681885,
          5.623495817184448,
          5.576390743255615,
          18.91626882553101,
          18.807509899139404,
          18.66624116897583,
          18.651594161987305,
          18.74023461341858,
          18.62629246711731,
          18.636844873428345,
          18.83113670349121,
          18.580387592315677,
          18.55864763259888,
          55.04933404922485,
          54.52633786201477,
          55.05064845085144,
          55.55808854103088,
          55.288517475128174,
          55.15966868400574,
          54.97859001159668,
          57.42989730834961,
          54.972288370132446,
          55.07973551750183,
          120.94269371032716,
          118.37002682685852,
          119.72219228744508,
          120.34270238876344,
          119.93458795547484,
          119.21791577339172,
          120.01750302314758,
          120.02522253990172,
          119.977148771286,
          120.27292609214784,
          24.02270770072937,
          23.95939922332764,
          23.693778038024902,
          23.498462677001957,
          23.49275135993957,
          23.723292350769043,
          23.66700577735901,
          23.59319758415222,
          23.48471188545227,
          23.335405588150024,
          109.7520649433136,
          108.726660490036,
          108.65011811256409,
          107.02630424499512,
          107.85665678977966,
          108.68136191368104,
          107.78678274154665,
          110.93220376968384,
          108.16257834434508,
          108.2475357055664,
          237.3870429992676,
          241.3519949913025,
          241.219450712204,
          238.40240359306333,
          244.91638040542605,
          244.4735107421875,
          237.10822772979736,
          238.90733098983765,
          240.587233543396,
          236.500346660614,
          210.0700271129608,
          209.7270655632019,
          210.25144338607788,
          209.67614912986755,
          210.36907076835632,
          209.33939576148987,
          209.29640078544617,
          209.4782738685608,
          210.1088616847992,
          213.96946716308597
         ],
         "y0": " ",
         "yaxis": "y"
        }
       ],
       "layout": {
        "legend": {
         "tracegroupgap": 0
        },
        "template": {
         "data": {
          "bar": [
           {
            "error_x": {
             "color": "#2a3f5f"
            },
            "error_y": {
             "color": "#2a3f5f"
            },
            "marker": {
             "line": {
              "color": "#E5ECF6",
              "width": 0.5
             },
             "pattern": {
              "fillmode": "overlay",
              "size": 10,
              "solidity": 0.2
             }
            },
            "type": "bar"
           }
          ],
          "barpolar": [
           {
            "marker": {
             "line": {
              "color": "#E5ECF6",
              "width": 0.5
             },
             "pattern": {
              "fillmode": "overlay",
              "size": 10,
              "solidity": 0.2
             }
            },
            "type": "barpolar"
           }
          ],
          "carpet": [
           {
            "aaxis": {
             "endlinecolor": "#2a3f5f",
             "gridcolor": "white",
             "linecolor": "white",
             "minorgridcolor": "white",
             "startlinecolor": "#2a3f5f"
            },
            "baxis": {
             "endlinecolor": "#2a3f5f",
             "gridcolor": "white",
             "linecolor": "white",
             "minorgridcolor": "white",
             "startlinecolor": "#2a3f5f"
            },
            "type": "carpet"
           }
          ],
          "choropleth": [
           {
            "colorbar": {
             "outlinewidth": 0,
             "ticks": ""
            },
            "type": "choropleth"
           }
          ],
          "contour": [
           {
            "colorbar": {
             "outlinewidth": 0,
             "ticks": ""
            },
            "colorscale": [
             [
              0,
              "#0d0887"
             ],
             [
              0.1111111111111111,
              "#46039f"
             ],
             [
              0.2222222222222222,
              "#7201a8"
             ],
             [
              0.3333333333333333,
              "#9c179e"
             ],
             [
              0.4444444444444444,
              "#bd3786"
             ],
             [
              0.5555555555555556,
              "#d8576b"
             ],
             [
              0.6666666666666666,
              "#ed7953"
             ],
             [
              0.7777777777777778,
              "#fb9f3a"
             ],
             [
              0.8888888888888888,
              "#fdca26"
             ],
             [
              1,
              "#f0f921"
             ]
            ],
            "type": "contour"
           }
          ],
          "contourcarpet": [
           {
            "colorbar": {
             "outlinewidth": 0,
             "ticks": ""
            },
            "type": "contourcarpet"
           }
          ],
          "heatmap": [
           {
            "colorbar": {
             "outlinewidth": 0,
             "ticks": ""
            },
            "colorscale": [
             [
              0,
              "#0d0887"
             ],
             [
              0.1111111111111111,
              "#46039f"
             ],
             [
              0.2222222222222222,
              "#7201a8"
             ],
             [
              0.3333333333333333,
              "#9c179e"
             ],
             [
              0.4444444444444444,
              "#bd3786"
             ],
             [
              0.5555555555555556,
              "#d8576b"
             ],
             [
              0.6666666666666666,
              "#ed7953"
             ],
             [
              0.7777777777777778,
              "#fb9f3a"
             ],
             [
              0.8888888888888888,
              "#fdca26"
             ],
             [
              1,
              "#f0f921"
             ]
            ],
            "type": "heatmap"
           }
          ],
          "heatmapgl": [
           {
            "colorbar": {
             "outlinewidth": 0,
             "ticks": ""
            },
            "colorscale": [
             [
              0,
              "#0d0887"
             ],
             [
              0.1111111111111111,
              "#46039f"
             ],
             [
              0.2222222222222222,
              "#7201a8"
             ],
             [
              0.3333333333333333,
              "#9c179e"
             ],
             [
              0.4444444444444444,
              "#bd3786"
             ],
             [
              0.5555555555555556,
              "#d8576b"
             ],
             [
              0.6666666666666666,
              "#ed7953"
             ],
             [
              0.7777777777777778,
              "#fb9f3a"
             ],
             [
              0.8888888888888888,
              "#fdca26"
             ],
             [
              1,
              "#f0f921"
             ]
            ],
            "type": "heatmapgl"
           }
          ],
          "histogram": [
           {
            "marker": {
             "pattern": {
              "fillmode": "overlay",
              "size": 10,
              "solidity": 0.2
             }
            },
            "type": "histogram"
           }
          ],
          "histogram2d": [
           {
            "colorbar": {
             "outlinewidth": 0,
             "ticks": ""
            },
            "colorscale": [
             [
              0,
              "#0d0887"
             ],
             [
              0.1111111111111111,
              "#46039f"
             ],
             [
              0.2222222222222222,
              "#7201a8"
             ],
             [
              0.3333333333333333,
              "#9c179e"
             ],
             [
              0.4444444444444444,
              "#bd3786"
             ],
             [
              0.5555555555555556,
              "#d8576b"
             ],
             [
              0.6666666666666666,
              "#ed7953"
             ],
             [
              0.7777777777777778,
              "#fb9f3a"
             ],
             [
              0.8888888888888888,
              "#fdca26"
             ],
             [
              1,
              "#f0f921"
             ]
            ],
            "type": "histogram2d"
           }
          ],
          "histogram2dcontour": [
           {
            "colorbar": {
             "outlinewidth": 0,
             "ticks": ""
            },
            "colorscale": [
             [
              0,
              "#0d0887"
             ],
             [
              0.1111111111111111,
              "#46039f"
             ],
             [
              0.2222222222222222,
              "#7201a8"
             ],
             [
              0.3333333333333333,
              "#9c179e"
             ],
             [
              0.4444444444444444,
              "#bd3786"
             ],
             [
              0.5555555555555556,
              "#d8576b"
             ],
             [
              0.6666666666666666,
              "#ed7953"
             ],
             [
              0.7777777777777778,
              "#fb9f3a"
             ],
             [
              0.8888888888888888,
              "#fdca26"
             ],
             [
              1,
              "#f0f921"
             ]
            ],
            "type": "histogram2dcontour"
           }
          ],
          "mesh3d": [
           {
            "colorbar": {
             "outlinewidth": 0,
             "ticks": ""
            },
            "type": "mesh3d"
           }
          ],
          "parcoords": [
           {
            "line": {
             "colorbar": {
              "outlinewidth": 0,
              "ticks": ""
             }
            },
            "type": "parcoords"
           }
          ],
          "pie": [
           {
            "automargin": true,
            "type": "pie"
           }
          ],
          "scatter": [
           {
            "fillpattern": {
             "fillmode": "overlay",
             "size": 10,
             "solidity": 0.2
            },
            "type": "scatter"
           }
          ],
          "scatter3d": [
           {
            "line": {
             "colorbar": {
              "outlinewidth": 0,
              "ticks": ""
             }
            },
            "marker": {
             "colorbar": {
              "outlinewidth": 0,
              "ticks": ""
             }
            },
            "type": "scatter3d"
           }
          ],
          "scattercarpet": [
           {
            "marker": {
             "colorbar": {
              "outlinewidth": 0,
              "ticks": ""
             }
            },
            "type": "scattercarpet"
           }
          ],
          "scattergeo": [
           {
            "marker": {
             "colorbar": {
              "outlinewidth": 0,
              "ticks": ""
             }
            },
            "type": "scattergeo"
           }
          ],
          "scattergl": [
           {
            "marker": {
             "colorbar": {
              "outlinewidth": 0,
              "ticks": ""
             }
            },
            "type": "scattergl"
           }
          ],
          "scattermapbox": [
           {
            "marker": {
             "colorbar": {
              "outlinewidth": 0,
              "ticks": ""
             }
            },
            "type": "scattermapbox"
           }
          ],
          "scatterpolar": [
           {
            "marker": {
             "colorbar": {
              "outlinewidth": 0,
              "ticks": ""
             }
            },
            "type": "scatterpolar"
           }
          ],
          "scatterpolargl": [
           {
            "marker": {
             "colorbar": {
              "outlinewidth": 0,
              "ticks": ""
             }
            },
            "type": "scatterpolargl"
           }
          ],
          "scatterternary": [
           {
            "marker": {
             "colorbar": {
              "outlinewidth": 0,
              "ticks": ""
             }
            },
            "type": "scatterternary"
           }
          ],
          "surface": [
           {
            "colorbar": {
             "outlinewidth": 0,
             "ticks": ""
            },
            "colorscale": [
             [
              0,
              "#0d0887"
             ],
             [
              0.1111111111111111,
              "#46039f"
             ],
             [
              0.2222222222222222,
              "#7201a8"
             ],
             [
              0.3333333333333333,
              "#9c179e"
             ],
             [
              0.4444444444444444,
              "#bd3786"
             ],
             [
              0.5555555555555556,
              "#d8576b"
             ],
             [
              0.6666666666666666,
              "#ed7953"
             ],
             [
              0.7777777777777778,
              "#fb9f3a"
             ],
             [
              0.8888888888888888,
              "#fdca26"
             ],
             [
              1,
              "#f0f921"
             ]
            ],
            "type": "surface"
           }
          ],
          "table": [
           {
            "cells": {
             "fill": {
              "color": "#EBF0F8"
             },
             "line": {
              "color": "white"
             }
            },
            "header": {
             "fill": {
              "color": "#C8D4E3"
             },
             "line": {
              "color": "white"
             }
            },
            "type": "table"
           }
          ]
         },
         "layout": {
          "annotationdefaults": {
           "arrowcolor": "#2a3f5f",
           "arrowhead": 0,
           "arrowwidth": 1
          },
          "autotypenumbers": "strict",
          "coloraxis": {
           "colorbar": {
            "outlinewidth": 0,
            "ticks": ""
           }
          },
          "colorscale": {
           "diverging": [
            [
             0,
             "#8e0152"
            ],
            [
             0.1,
             "#c51b7d"
            ],
            [
             0.2,
             "#de77ae"
            ],
            [
             0.3,
             "#f1b6da"
            ],
            [
             0.4,
             "#fde0ef"
            ],
            [
             0.5,
             "#f7f7f7"
            ],
            [
             0.6,
             "#e6f5d0"
            ],
            [
             0.7,
             "#b8e186"
            ],
            [
             0.8,
             "#7fbc41"
            ],
            [
             0.9,
             "#4d9221"
            ],
            [
             1,
             "#276419"
            ]
           ],
           "sequential": [
            [
             0,
             "#0d0887"
            ],
            [
             0.1111111111111111,
             "#46039f"
            ],
            [
             0.2222222222222222,
             "#7201a8"
            ],
            [
             0.3333333333333333,
             "#9c179e"
            ],
            [
             0.4444444444444444,
             "#bd3786"
            ],
            [
             0.5555555555555556,
             "#d8576b"
            ],
            [
             0.6666666666666666,
             "#ed7953"
            ],
            [
             0.7777777777777778,
             "#fb9f3a"
            ],
            [
             0.8888888888888888,
             "#fdca26"
            ],
            [
             1,
             "#f0f921"
            ]
           ],
           "sequentialminus": [
            [
             0,
             "#0d0887"
            ],
            [
             0.1111111111111111,
             "#46039f"
            ],
            [
             0.2222222222222222,
             "#7201a8"
            ],
            [
             0.3333333333333333,
             "#9c179e"
            ],
            [
             0.4444444444444444,
             "#bd3786"
            ],
            [
             0.5555555555555556,
             "#d8576b"
            ],
            [
             0.6666666666666666,
             "#ed7953"
            ],
            [
             0.7777777777777778,
             "#fb9f3a"
            ],
            [
             0.8888888888888888,
             "#fdca26"
            ],
            [
             1,
             "#f0f921"
            ]
           ]
          },
          "colorway": [
           "#636efa",
           "#EF553B",
           "#00cc96",
           "#ab63fa",
           "#FFA15A",
           "#19d3f3",
           "#FF6692",
           "#B6E880",
           "#FF97FF",
           "#FECB52"
          ],
          "font": {
           "color": "#2a3f5f"
          },
          "geo": {
           "bgcolor": "white",
           "lakecolor": "white",
           "landcolor": "#E5ECF6",
           "showlakes": true,
           "showland": true,
           "subunitcolor": "white"
          },
          "hoverlabel": {
           "align": "left"
          },
          "hovermode": "closest",
          "mapbox": {
           "style": "light"
          },
          "paper_bgcolor": "white",
          "plot_bgcolor": "#E5ECF6",
          "polar": {
           "angularaxis": {
            "gridcolor": "white",
            "linecolor": "white",
            "ticks": ""
           },
           "bgcolor": "#E5ECF6",
           "radialaxis": {
            "gridcolor": "white",
            "linecolor": "white",
            "ticks": ""
           }
          },
          "scene": {
           "xaxis": {
            "backgroundcolor": "#E5ECF6",
            "gridcolor": "white",
            "gridwidth": 2,
            "linecolor": "white",
            "showbackground": true,
            "ticks": "",
            "zerolinecolor": "white"
           },
           "yaxis": {
            "backgroundcolor": "#E5ECF6",
            "gridcolor": "white",
            "gridwidth": 2,
            "linecolor": "white",
            "showbackground": true,
            "ticks": "",
            "zerolinecolor": "white"
           },
           "zaxis": {
            "backgroundcolor": "#E5ECF6",
            "gridcolor": "white",
            "gridwidth": 2,
            "linecolor": "white",
            "showbackground": true,
            "ticks": "",
            "zerolinecolor": "white"
           }
          },
          "shapedefaults": {
           "line": {
            "color": "#2a3f5f"
           }
          },
          "ternary": {
           "aaxis": {
            "gridcolor": "white",
            "linecolor": "white",
            "ticks": ""
           },
           "baxis": {
            "gridcolor": "white",
            "linecolor": "white",
            "ticks": ""
           },
           "bgcolor": "#E5ECF6",
           "caxis": {
            "gridcolor": "white",
            "linecolor": "white",
            "ticks": ""
           }
          },
          "title": {
           "x": 0.05
          },
          "xaxis": {
           "automargin": true,
           "gridcolor": "white",
           "linecolor": "white",
           "ticks": "",
           "title": {
            "standoff": 15
           },
           "zerolinecolor": "white",
           "zerolinewidth": 2
          },
          "yaxis": {
           "automargin": true,
           "gridcolor": "white",
           "linecolor": "white",
           "ticks": "",
           "title": {
            "standoff": 15
           },
           "zerolinecolor": "white",
           "zerolinewidth": 2
          }
         }
        },
        "title": {
         "text": "Runtime Distribution per Benchmark-Solver Combination"
        },
        "violinmode": "group",
        "xaxis": {
         "anchor": "y",
         "domain": [
          0,
          1
         ],
         "title": {
          "text": "Benchmark - Solver"
         }
        },
        "yaxis": {
         "anchor": "x",
         "domain": [
          0,
          1
         ],
         "title": {
          "text": "Runtime (s)"
         }
        }
       }
      }
     },
     "metadata": {},
     "output_type": "display_data"
    }
   ],
   "source": [
    "df[\"benchmark_solver\"] = df[\"Benchmark\"] + \" - \" + df[\"Solver\"]\n",
    "\n",
    "fig = px.violin(\n",
    "    df,\n",
    "    x=\"benchmark_solver\",\n",
    "    y=\"Runtime (s)\",\n",
    "    box=True,  # Adds a box plot inside the violin for additional stats\n",
    "    points=\"all\",  # Shows all individual data points\n",
    "    title=\"Runtime Distribution per Benchmark-Solver Combination\",\n",
    "    labels={\"benchmark_solver\": \"Benchmark - Solver\"},\n",
    ")\n",
    "fig.show()"
   ]
  },
  {
   "cell_type": "code",
   "execution_count": 16,
   "metadata": {},
   "outputs": [
    {
     "name": "stdout",
     "output_type": "stream",
     "text": [
      "Variance in runtime\n"
     ]
    },
    {
     "data": {
      "text/html": [
       "<div>\n",
       "<style scoped>\n",
       "    .dataframe tbody tr th:only-of-type {\n",
       "        vertical-align: middle;\n",
       "    }\n",
       "\n",
       "    .dataframe tbody tr th {\n",
       "        vertical-align: top;\n",
       "    }\n",
       "\n",
       "    .dataframe thead th {\n",
       "        text-align: right;\n",
       "    }\n",
       "</style>\n",
       "<table border=\"1\" class=\"dataframe\">\n",
       "  <thead>\n",
       "    <tr style=\"text-align: right;\">\n",
       "      <th></th>\n",
       "      <th>Benchmark</th>\n",
       "      <th>Solver</th>\n",
       "      <th>mean</th>\n",
       "      <th>std</th>\n",
       "      <th>CV</th>\n",
       "    </tr>\n",
       "  </thead>\n",
       "  <tbody>\n",
       "    <tr>\n",
       "      <th>0</th>\n",
       "      <td>pypsa-wind+sol+ely-1h</td>\n",
       "      <td>glpk</td>\n",
       "      <td>240.09</td>\n",
       "      <td>2.96</td>\n",
       "      <td>1.23</td>\n",
       "    </tr>\n",
       "    <tr>\n",
       "      <th>1</th>\n",
       "      <td>pypsa-wind+sol+ely-1h</td>\n",
       "      <td>gurobi</td>\n",
       "      <td>23.65</td>\n",
       "      <td>0.22</td>\n",
       "      <td>0.91</td>\n",
       "    </tr>\n",
       "    <tr>\n",
       "      <th>2</th>\n",
       "      <td>pypsa-wind+sol+ely-1h</td>\n",
       "      <td>highs</td>\n",
       "      <td>108.58</td>\n",
       "      <td>1.10</td>\n",
       "      <td>1.01</td>\n",
       "    </tr>\n",
       "    <tr>\n",
       "      <th>3</th>\n",
       "      <td>pypsa-wind+sol+ely-1h</td>\n",
       "      <td>scip</td>\n",
       "      <td>210.23</td>\n",
       "      <td>1.37</td>\n",
       "      <td>0.65</td>\n",
       "    </tr>\n",
       "    <tr>\n",
       "      <th>4</th>\n",
       "      <td>pypsa-wind+sol+ely-1h-ucwind</td>\n",
       "      <td>glpk</td>\n",
       "      <td>55.31</td>\n",
       "      <td>0.79</td>\n",
       "      <td>1.43</td>\n",
       "    </tr>\n",
       "    <tr>\n",
       "      <th>5</th>\n",
       "      <td>pypsa-wind+sol+ely-1h-ucwind</td>\n",
       "      <td>gurobi</td>\n",
       "      <td>5.64</td>\n",
       "      <td>0.13</td>\n",
       "      <td>2.39</td>\n",
       "    </tr>\n",
       "    <tr>\n",
       "      <th>6</th>\n",
       "      <td>pypsa-wind+sol+ely-1h-ucwind</td>\n",
       "      <td>highs</td>\n",
       "      <td>18.70</td>\n",
       "      <td>0.12</td>\n",
       "      <td>0.63</td>\n",
       "    </tr>\n",
       "    <tr>\n",
       "      <th>7</th>\n",
       "      <td>pypsa-wind+sol+ely-1h-ucwind</td>\n",
       "      <td>scip</td>\n",
       "      <td>119.88</td>\n",
       "      <td>0.69</td>\n",
       "      <td>0.58</td>\n",
       "    </tr>\n",
       "  </tbody>\n",
       "</table>\n",
       "</div>"
      ],
      "text/plain": [
       "                      Benchmark  Solver    mean   std    CV\n",
       "0         pypsa-wind+sol+ely-1h    glpk  240.09  2.96  1.23\n",
       "1         pypsa-wind+sol+ely-1h  gurobi   23.65  0.22  0.91\n",
       "2         pypsa-wind+sol+ely-1h   highs  108.58  1.10  1.01\n",
       "3         pypsa-wind+sol+ely-1h    scip  210.23  1.37  0.65\n",
       "4  pypsa-wind+sol+ely-1h-ucwind    glpk   55.31  0.79  1.43\n",
       "5  pypsa-wind+sol+ely-1h-ucwind  gurobi    5.64  0.13  2.39\n",
       "6  pypsa-wind+sol+ely-1h-ucwind   highs   18.70  0.12  0.63\n",
       "7  pypsa-wind+sol+ely-1h-ucwind    scip  119.88  0.69  0.58"
      ]
     },
     "execution_count": 16,
     "metadata": {},
     "output_type": "execute_result"
    }
   ],
   "source": [
    "print(\"Variance in runtime\")\n",
    "stats = (\n",
    "    df.groupby([\"Benchmark\", \"Solver\"])[\"Runtime (s)\"]\n",
    "    .agg([\"mean\", \"std\"])\n",
    "    .reset_index()\n",
    ")\n",
    "# Calculate the Coefficient of Variation (CV) as (stddev / mean) * 100\n",
    "stats[\"CV\"] = (stats[\"std\"] / stats[\"mean\"]) * 100\n",
    "stats.round(2)"
   ]
  },
  {
   "cell_type": "code",
   "execution_count": 17,
   "metadata": {},
   "outputs": [
    {
     "name": "stdout",
     "output_type": "stream",
     "text": [
      "Variance in memory usage\n"
     ]
    },
    {
     "data": {
      "text/html": [
       "<div>\n",
       "<style scoped>\n",
       "    .dataframe tbody tr th:only-of-type {\n",
       "        vertical-align: middle;\n",
       "    }\n",
       "\n",
       "    .dataframe tbody tr th {\n",
       "        vertical-align: top;\n",
       "    }\n",
       "\n",
       "    .dataframe thead th {\n",
       "        text-align: right;\n",
       "    }\n",
       "</style>\n",
       "<table border=\"1\" class=\"dataframe\">\n",
       "  <thead>\n",
       "    <tr style=\"text-align: right;\">\n",
       "      <th></th>\n",
       "      <th>Benchmark</th>\n",
       "      <th>Solver</th>\n",
       "      <th>mean</th>\n",
       "      <th>std</th>\n",
       "      <th>CV</th>\n",
       "    </tr>\n",
       "  </thead>\n",
       "  <tbody>\n",
       "    <tr>\n",
       "      <th>0</th>\n",
       "      <td>pypsa-wind+sol+ely-1h</td>\n",
       "      <td>glpk</td>\n",
       "      <td>346.79</td>\n",
       "      <td>1.87</td>\n",
       "      <td>0.54</td>\n",
       "    </tr>\n",
       "    <tr>\n",
       "      <th>1</th>\n",
       "      <td>pypsa-wind+sol+ely-1h</td>\n",
       "      <td>gurobi</td>\n",
       "      <td>383.12</td>\n",
       "      <td>1.56</td>\n",
       "      <td>0.41</td>\n",
       "    </tr>\n",
       "    <tr>\n",
       "      <th>2</th>\n",
       "      <td>pypsa-wind+sol+ely-1h</td>\n",
       "      <td>highs</td>\n",
       "      <td>515.69</td>\n",
       "      <td>1.88</td>\n",
       "      <td>0.36</td>\n",
       "    </tr>\n",
       "    <tr>\n",
       "      <th>3</th>\n",
       "      <td>pypsa-wind+sol+ely-1h</td>\n",
       "      <td>scip</td>\n",
       "      <td>718.53</td>\n",
       "      <td>2.96</td>\n",
       "      <td>0.41</td>\n",
       "    </tr>\n",
       "    <tr>\n",
       "      <th>4</th>\n",
       "      <td>pypsa-wind+sol+ely-1h-ucwind</td>\n",
       "      <td>glpk</td>\n",
       "      <td>408.12</td>\n",
       "      <td>1.28</td>\n",
       "      <td>0.31</td>\n",
       "    </tr>\n",
       "    <tr>\n",
       "      <th>5</th>\n",
       "      <td>pypsa-wind+sol+ely-1h-ucwind</td>\n",
       "      <td>gurobi</td>\n",
       "      <td>401.50</td>\n",
       "      <td>3.78</td>\n",
       "      <td>0.94</td>\n",
       "    </tr>\n",
       "    <tr>\n",
       "      <th>6</th>\n",
       "      <td>pypsa-wind+sol+ely-1h-ucwind</td>\n",
       "      <td>highs</td>\n",
       "      <td>490.33</td>\n",
       "      <td>1.67</td>\n",
       "      <td>0.34</td>\n",
       "    </tr>\n",
       "    <tr>\n",
       "      <th>7</th>\n",
       "      <td>pypsa-wind+sol+ely-1h-ucwind</td>\n",
       "      <td>scip</td>\n",
       "      <td>1104.39</td>\n",
       "      <td>1.80</td>\n",
       "      <td>0.16</td>\n",
       "    </tr>\n",
       "  </tbody>\n",
       "</table>\n",
       "</div>"
      ],
      "text/plain": [
       "                      Benchmark  Solver     mean   std    CV\n",
       "0         pypsa-wind+sol+ely-1h    glpk   346.79  1.87  0.54\n",
       "1         pypsa-wind+sol+ely-1h  gurobi   383.12  1.56  0.41\n",
       "2         pypsa-wind+sol+ely-1h   highs   515.69  1.88  0.36\n",
       "3         pypsa-wind+sol+ely-1h    scip   718.53  2.96  0.41\n",
       "4  pypsa-wind+sol+ely-1h-ucwind    glpk   408.12  1.28  0.31\n",
       "5  pypsa-wind+sol+ely-1h-ucwind  gurobi   401.50  3.78  0.94\n",
       "6  pypsa-wind+sol+ely-1h-ucwind   highs   490.33  1.67  0.34\n",
       "7  pypsa-wind+sol+ely-1h-ucwind    scip  1104.39  1.80  0.16"
      ]
     },
     "execution_count": 17,
     "metadata": {},
     "output_type": "execute_result"
    }
   ],
   "source": [
    "print(\"Variance in memory usage\")\n",
    "stats = (\n",
    "    df.groupby([\"Benchmark\", \"Solver\"])[\"Memory Usage (MB)\"]\n",
    "    .agg([\"mean\", \"std\"])\n",
    "    .reset_index()\n",
    ")\n",
    "# Calculate the Coefficient of Variation (CV) as (stddev / mean) * 100\n",
    "stats[\"CV\"] = (stats[\"std\"] / stats[\"mean\"]) * 100\n",
    "stats.round(2)"
   ]
  },
  {
   "cell_type": "markdown",
   "metadata": {},
   "source": [
    "## Results\n",
    "\n",
    "It doesn't look like there was much variance in either. The Coefficient of Variation (CV) is < 2% for both runtime and memory consumption.\n",
    "\n",
    "# First vs Second Benchmark Runs\n",
    "\n",
    "When I did a second benchmark run that increased timeout T from 5min to 15min, I noticed that the diff showed a lot of change in runtime. So let's look into that:\n",
    "https://github.com/open-energy-transition/solver-benchmark/pull/27/files#diff-bd83e19dfe54f3c90d4f126de87f2b220aed062b851761720081d0ace78db25c"
   ]
  },
  {
   "cell_type": "code",
   "execution_count": 18,
   "metadata": {},
   "outputs": [
    {
     "data": {
      "text/html": [
       "<div>\n",
       "<style scoped>\n",
       "    .dataframe tbody tr th:only-of-type {\n",
       "        vertical-align: middle;\n",
       "    }\n",
       "\n",
       "    .dataframe tbody tr th {\n",
       "        vertical-align: top;\n",
       "    }\n",
       "\n",
       "    .dataframe thead th {\n",
       "        text-align: right;\n",
       "    }\n",
       "</style>\n",
       "<table border=\"1\" class=\"dataframe\">\n",
       "  <thead>\n",
       "    <tr style=\"text-align: right;\">\n",
       "      <th></th>\n",
       "      <th>Benchmark</th>\n",
       "      <th>Solver</th>\n",
       "      <th>Runtime (s)_x</th>\n",
       "      <th>Runtime Diff</th>\n",
       "      <th>Runtime Diff %</th>\n",
       "    </tr>\n",
       "  </thead>\n",
       "  <tbody>\n",
       "    <tr>\n",
       "      <th>5</th>\n",
       "      <td>pypsa-wind+sol+ely-1h-ucwind</td>\n",
       "      <td>glpk</td>\n",
       "      <td>52.290020</td>\n",
       "      <td>-19.217712</td>\n",
       "      <td>-36.752160</td>\n",
       "    </tr>\n",
       "    <tr>\n",
       "      <th>7</th>\n",
       "      <td>pypsa-wind+sol+ely-1h</td>\n",
       "      <td>gurobi</td>\n",
       "      <td>5.820309</td>\n",
       "      <td>-2.019725</td>\n",
       "      <td>-34.701331</td>\n",
       "    </tr>\n",
       "    <tr>\n",
       "      <th>9</th>\n",
       "      <td>pypsa-wind+sol+ely-1h</td>\n",
       "      <td>glpk</td>\n",
       "      <td>228.092592</td>\n",
       "      <td>-74.688016</td>\n",
       "      <td>-32.744604</td>\n",
       "    </tr>\n",
       "    <tr>\n",
       "      <th>0</th>\n",
       "      <td>pypsa-eur-elec-10-lvopt-3h</td>\n",
       "      <td>gurobi</td>\n",
       "      <td>108.031254</td>\n",
       "      <td>-34.854300</td>\n",
       "      <td>-32.263163</td>\n",
       "    </tr>\n",
       "    <tr>\n",
       "      <th>10</th>\n",
       "      <td>pypsa-wind+sol+ely-1h</td>\n",
       "      <td>scip</td>\n",
       "      <td>196.463654</td>\n",
       "      <td>-62.132364</td>\n",
       "      <td>-31.625373</td>\n",
       "    </tr>\n",
       "    <tr>\n",
       "      <th>6</th>\n",
       "      <td>pypsa-wind+sol+ely-1h-ucwind</td>\n",
       "      <td>scip</td>\n",
       "      <td>111.931036</td>\n",
       "      <td>-34.643833</td>\n",
       "      <td>-30.951052</td>\n",
       "    </tr>\n",
       "    <tr>\n",
       "      <th>4</th>\n",
       "      <td>pypsa-wind+sol+ely-1h-ucwind</td>\n",
       "      <td>highs</td>\n",
       "      <td>19.595201</td>\n",
       "      <td>-6.017105</td>\n",
       "      <td>-30.707036</td>\n",
       "    </tr>\n",
       "    <tr>\n",
       "      <th>8</th>\n",
       "      <td>pypsa-wind+sol+ely-1h</td>\n",
       "      <td>highs</td>\n",
       "      <td>102.118329</td>\n",
       "      <td>-30.812599</td>\n",
       "      <td>-30.173427</td>\n",
       "    </tr>\n",
       "    <tr>\n",
       "      <th>2</th>\n",
       "      <td>pypsa-eur-elec-20-lv1-3h-op-ucconv</td>\n",
       "      <td>gurobi</td>\n",
       "      <td>44.945512</td>\n",
       "      <td>-13.142353</td>\n",
       "      <td>-29.240635</td>\n",
       "    </tr>\n",
       "    <tr>\n",
       "      <th>1</th>\n",
       "      <td>pypsa-eur-elec-20-lv1-3h-op</td>\n",
       "      <td>gurobi</td>\n",
       "      <td>26.436074</td>\n",
       "      <td>-7.606498</td>\n",
       "      <td>-28.773177</td>\n",
       "    </tr>\n",
       "    <tr>\n",
       "      <th>3</th>\n",
       "      <td>pypsa-wind+sol+ely-1h-ucwind</td>\n",
       "      <td>gurobi</td>\n",
       "      <td>5.462621</td>\n",
       "      <td>-1.557614</td>\n",
       "      <td>-28.514034</td>\n",
       "    </tr>\n",
       "  </tbody>\n",
       "</table>\n",
       "</div>"
      ],
      "text/plain": [
       "                             Benchmark  Solver  Runtime (s)_x  Runtime Diff  \\\n",
       "5         pypsa-wind+sol+ely-1h-ucwind    glpk      52.290020    -19.217712   \n",
       "7                pypsa-wind+sol+ely-1h  gurobi       5.820309     -2.019725   \n",
       "9                pypsa-wind+sol+ely-1h    glpk     228.092592    -74.688016   \n",
       "0           pypsa-eur-elec-10-lvopt-3h  gurobi     108.031254    -34.854300   \n",
       "10               pypsa-wind+sol+ely-1h    scip     196.463654    -62.132364   \n",
       "6         pypsa-wind+sol+ely-1h-ucwind    scip     111.931036    -34.643833   \n",
       "4         pypsa-wind+sol+ely-1h-ucwind   highs      19.595201     -6.017105   \n",
       "8                pypsa-wind+sol+ely-1h   highs     102.118329    -30.812599   \n",
       "2   pypsa-eur-elec-20-lv1-3h-op-ucconv  gurobi      44.945512    -13.142353   \n",
       "1          pypsa-eur-elec-20-lv1-3h-op  gurobi      26.436074     -7.606498   \n",
       "3         pypsa-wind+sol+ely-1h-ucwind  gurobi       5.462621     -1.557614   \n",
       "\n",
       "    Runtime Diff %  \n",
       "5       -36.752160  \n",
       "7       -34.701331  \n",
       "9       -32.744604  \n",
       "0       -32.263163  \n",
       "10      -31.625373  \n",
       "6       -30.951052  \n",
       "4       -30.707036  \n",
       "8       -30.173427  \n",
       "2       -29.240635  \n",
       "1       -28.773177  \n",
       "3       -28.514034  "
      ]
     },
     "execution_count": 18,
     "metadata": {},
     "output_type": "execute_result"
    }
   ],
   "source": [
    "# Compare results of 2 benchmarking runs to see how much runtimes varied\n",
    "\n",
    "from io import StringIO\n",
    "\n",
    "results_before = pd.read_csv(\n",
    "    StringIO(\"\"\"\n",
    "Benchmark,Solver,Status,Termination Condition,Objective Value,Runtime (s),Memory Usage (MB)\n",
    "pypsa-eur-sec-2-lv1-3h,gurobi,TO,Timeout,,300,1787.848\n",
    "pypsa-eur-sec-2-lv1-3h,highs,TO,Timeout,,300,1855.136\n",
    "pypsa-eur-sec-2-lv1-3h,glpk,TO,Timeout,,300,566.772\n",
    "pypsa-eur-sec-2-lv1-3h,scip,TO,Timeout,,300,4208.88\n",
    "pypsa-eur-elec-10-lvopt-3h,gurobi,ok,optimal,8338089380.280747,108.03125429153442,2684.152\n",
    "pypsa-eur-elec-10-lvopt-3h,highs,TO,Timeout,,300,2414.744\n",
    "pypsa-eur-elec-10-lvopt-3h,glpk,TO,Timeout,,300,566.764\n",
    "pypsa-eur-elec-10-lvopt-3h,scip,TO,Timeout,,300,5756.92\n",
    "pypsa-eur-elec-20-lv1-3h-op,gurobi,ok,optimal,7070825187.397594,26.436074018478394,1017.264\n",
    "pypsa-eur-elec-20-lv1-3h-op,highs,TO,Timeout,,300,853.76\n",
    "pypsa-eur-elec-20-lv1-3h-op,glpk,TO,Timeout,,300,319.676\n",
    "pypsa-eur-elec-20-lv1-3h-op,scip,TO,Timeout,,300,1668.304\n",
    "pypsa-eur-elec-20-lv1-3h-op-ucconv,gurobi,ok,optimal,10504487082.690851,44.94551229476929,1140.84\n",
    "pypsa-eur-elec-20-lv1-3h-op-ucconv,highs,TO,Timeout,,300,1047.224\n",
    "pypsa-eur-elec-20-lv1-3h-op-ucconv,glpk,TO,Timeout,,300,326.776\n",
    "pypsa-eur-elec-20-lv1-3h-op-ucconv,scip,TO,Timeout,,300,1970.784\n",
    "pypsa-wind+sol+ely-1h-ucwind,gurobi,ok,optimal,313963605214.4336,5.462620973587036,451.772\n",
    "pypsa-wind+sol+ely-1h-ucwind,highs,ok,optimal,313963605214.43445,19.595200538635254,536.044\n",
    "pypsa-wind+sol+ely-1h-ucwind,glpk,ok,optimal,313963605200.0,52.29001998901367,408.768\n",
    "pypsa-wind+sol+ely-1h-ucwind,scip,ok,optimal,313963605214.43396,111.93103623390198,1103.992\n",
    "pypsa-wind+sol+ely-1h,gurobi,ok,optimal,84667526618.31015,5.820308685302734,454.436\n",
    "pypsa-wind+sol+ely-1h,highs,ok,optimal,84667526618.31026,102.11832928657532,519.06\n",
    "pypsa-wind+sol+ely-1h,glpk,ok,optimal,84667526620.0,228.0925920009613,347.772\n",
    "pypsa-wind+sol+ely-1h,scip,ok,optimal,84667526618.308,196.46365356445312,714.24\n",
    "\"\"\")\n",
    ")\n",
    "\n",
    "results_after = pd.read_csv(\n",
    "    StringIO(\"\"\"\n",
    "Benchmark,Solver,Status,Termination Condition,Objective Value,Runtime (s),Memory Usage (MB)\n",
    "pypsa-eur-sec-2-lv1-3h,gurobi,ok,optimal,46838337007.19579,566.878669500351,1799.212\n",
    "pypsa-eur-sec-2-lv1-3h,highs,TO,Timeout,,900,2024.428\n",
    "pypsa-eur-sec-2-lv1-3h,glpk,TO,Timeout,,900,550.112\n",
    "pypsa-eur-sec-2-lv1-3h,scip,TO,Timeout,,900,4318.716\n",
    "pypsa-eur-elec-10-lvopt-3h,gurobi,ok,optimal,8338089380.280747,73.17695474624634,2679.74\n",
    "pypsa-eur-elec-10-lvopt-3h,highs,TO,Timeout,,900,2539.628\n",
    "pypsa-eur-elec-10-lvopt-3h,glpk,TO,Timeout,,900,589.356\n",
    "pypsa-eur-elec-10-lvopt-3h,scip,TO,Timeout,,900,5972.672\n",
    "pypsa-eur-elec-20-lv1-3h-op,gurobi,ok,optimal,7070825187.397594,18.829575777053833,923.92\n",
    "pypsa-eur-elec-20-lv1-3h-op,highs,TO,Timeout,,900,877.132\n",
    "pypsa-eur-elec-20-lv1-3h-op,glpk,TO,Timeout,,900,319.84\n",
    "pypsa-eur-elec-20-lv1-3h-op,scip,TO,Timeout,,900,1704.356\n",
    "pypsa-eur-elec-20-lv1-3h-op-ucconv,gurobi,ok,optimal,10504487082.690851,31.80315923690796,1151.14\n",
    "pypsa-eur-elec-20-lv1-3h-op-ucconv,highs,TO,Timeout,,900,1045.824\n",
    "pypsa-eur-elec-20-lv1-3h-op-ucconv,glpk,TO,Timeout,,900,323.68\n",
    "pypsa-eur-elec-20-lv1-3h-op-ucconv,scip,TO,Timeout,,900,2000.844\n",
    "pypsa-wind+sol+ely-1h-ucwind,gurobi,ok,optimal,313963605214.4336,3.9050073623657227,457.06\n",
    "pypsa-wind+sol+ely-1h-ucwind,highs,ok,optimal,313963605214.43445,13.578095197677612,541.208\n",
    "pypsa-wind+sol+ely-1h-ucwind,glpk,ok,optimal,313963605200.0,33.07230806350708,407.68\n",
    "pypsa-wind+sol+ely-1h-ucwind,scip,ok,optimal,313963605214.43396,77.28720355033875,1105.62\n",
    "pypsa-wind+sol+ely-1h,gurobi,ok,optimal,84667526618.31015,3.800584077835083,454.536\n",
    "pypsa-wind+sol+ely-1h,highs,ok,optimal,84667526618.31026,71.30572986602783,516.756\n",
    "pypsa-wind+sol+ely-1h,glpk,ok,optimal,84667526620.0,153.40457582473755,347.612\n",
    "pypsa-wind+sol+ely-1h,scip,ok,optimal,84667526618.308,134.33128952980042,717.12\n",
    "\"\"\")\n",
    ")\n",
    "\n",
    "df_2_runs = results_before[results_before[\"Status\"] == \"ok\"].merge(\n",
    "    results_after[results_after[\"Status\"] == \"ok\"], on=[\"Benchmark\", \"Solver\"]\n",
    ")\n",
    "df_2_runs[\"Runtime Diff\"] = df_2_runs[\"Runtime (s)_y\"] - df_2_runs[\"Runtime (s)_x\"]\n",
    "df_2_runs[\"Runtime Diff %\"] = (\n",
    "    df_2_runs[\"Runtime Diff\"] * 100 / df_2_runs[\"Runtime (s)_x\"]\n",
    ")\n",
    "df_2_runs[\n",
    "    [\"Benchmark\", \"Solver\", \"Runtime (s)_x\", \"Runtime Diff\", \"Runtime Diff %\"]\n",
    "].sort_values(by=\"Runtime Diff %\")"
   ]
  },
  {
   "cell_type": "markdown",
   "metadata": {},
   "source": [
    "Looks like something changed between the two runs above because the runtime diff is pretty consistently 30%. Perhaps I used a different machine configuration, or had something running in the background.\n",
    "\n",
    "# Third Experiment\n",
    "\n",
    "To double check that there's no variance on the larger benchmark, I ran Gurobi on all benchmarks 10 times to see how much variance there is:"
   ]
  },
  {
   "cell_type": "code",
   "execution_count": 13,
   "metadata": {},
   "outputs": [
    {
     "data": {
      "text/html": [
       "<div>\n",
       "<style scoped>\n",
       "    .dataframe tbody tr th:only-of-type {\n",
       "        vertical-align: middle;\n",
       "    }\n",
       "\n",
       "    .dataframe tbody tr th {\n",
       "        vertical-align: top;\n",
       "    }\n",
       "\n",
       "    .dataframe thead tr th {\n",
       "        text-align: left;\n",
       "    }\n",
       "\n",
       "    .dataframe thead tr:last-of-type th {\n",
       "        text-align: right;\n",
       "    }\n",
       "</style>\n",
       "<table border=\"1\" class=\"dataframe\">\n",
       "  <thead>\n",
       "    <tr>\n",
       "      <th></th>\n",
       "      <th></th>\n",
       "      <th colspan=\"3\" halign=\"left\">Memory Usage (MB)</th>\n",
       "      <th colspan=\"3\" halign=\"left\">Runtime (s)</th>\n",
       "    </tr>\n",
       "    <tr>\n",
       "      <th></th>\n",
       "      <th></th>\n",
       "      <th>CV</th>\n",
       "      <th>mean</th>\n",
       "      <th>std</th>\n",
       "      <th>CV</th>\n",
       "      <th>mean</th>\n",
       "      <th>std</th>\n",
       "    </tr>\n",
       "    <tr>\n",
       "      <th>Benchmark</th>\n",
       "      <th>Solver</th>\n",
       "      <th></th>\n",
       "      <th></th>\n",
       "      <th></th>\n",
       "      <th></th>\n",
       "      <th></th>\n",
       "      <th></th>\n",
       "    </tr>\n",
       "  </thead>\n",
       "  <tbody>\n",
       "    <tr>\n",
       "      <th>pypsa-eur-elec-10-lvopt-3h</th>\n",
       "      <th>gurobi</th>\n",
       "      <td>0.42</td>\n",
       "      <td>2673.03</td>\n",
       "      <td>11.28</td>\n",
       "      <td>4.26</td>\n",
       "      <td>78.01</td>\n",
       "      <td>3.33</td>\n",
       "    </tr>\n",
       "    <tr>\n",
       "      <th>pypsa-eur-elec-20-lv1-3h-op</th>\n",
       "      <th>gurobi</th>\n",
       "      <td>0.21</td>\n",
       "      <td>1014.37</td>\n",
       "      <td>2.12</td>\n",
       "      <td>2.56</td>\n",
       "      <td>19.25</td>\n",
       "      <td>0.49</td>\n",
       "    </tr>\n",
       "    <tr>\n",
       "      <th>pypsa-eur-elec-20-lv1-3h-op-ucconv</th>\n",
       "      <th>gurobi</th>\n",
       "      <td>2.18</td>\n",
       "      <td>1133.43</td>\n",
       "      <td>24.66</td>\n",
       "      <td>4.37</td>\n",
       "      <td>32.81</td>\n",
       "      <td>1.44</td>\n",
       "    </tr>\n",
       "    <tr>\n",
       "      <th>pypsa-wind+sol+ely-1h</th>\n",
       "      <th>gurobi</th>\n",
       "      <td>0.32</td>\n",
       "      <td>457.16</td>\n",
       "      <td>1.48</td>\n",
       "      <td>0.69</td>\n",
       "      <td>3.75</td>\n",
       "      <td>0.03</td>\n",
       "    </tr>\n",
       "    <tr>\n",
       "      <th>pypsa-wind+sol+ely-1h-ucwind</th>\n",
       "      <th>gurobi</th>\n",
       "      <td>0.36</td>\n",
       "      <td>429.01</td>\n",
       "      <td>1.53</td>\n",
       "      <td>1.54</td>\n",
       "      <td>3.65</td>\n",
       "      <td>0.06</td>\n",
       "    </tr>\n",
       "  </tbody>\n",
       "</table>\n",
       "</div>"
      ],
      "text/plain": [
       "                                          Memory Usage (MB)                  \\\n",
       "                                                         CV     mean    std   \n",
       "Benchmark                          Solver                                     \n",
       "pypsa-eur-elec-10-lvopt-3h         gurobi              0.42  2673.03  11.28   \n",
       "pypsa-eur-elec-20-lv1-3h-op        gurobi              0.21  1014.37   2.12   \n",
       "pypsa-eur-elec-20-lv1-3h-op-ucconv gurobi              2.18  1133.43  24.66   \n",
       "pypsa-wind+sol+ely-1h              gurobi              0.32   457.16   1.48   \n",
       "pypsa-wind+sol+ely-1h-ucwind       gurobi              0.36   429.01   1.53   \n",
       "\n",
       "                                          Runtime (s)               \n",
       "                                                   CV   mean   std  \n",
       "Benchmark                          Solver                           \n",
       "pypsa-eur-elec-10-lvopt-3h         gurobi        4.26  78.01  3.33  \n",
       "pypsa-eur-elec-20-lv1-3h-op        gurobi        2.56  19.25  0.49  \n",
       "pypsa-eur-elec-20-lv1-3h-op-ucconv gurobi        4.37  32.81  1.44  \n",
       "pypsa-wind+sol+ely-1h              gurobi        0.69   3.75  0.03  \n",
       "pypsa-wind+sol+ely-1h-ucwind       gurobi        1.54   3.65  0.06  "
      ]
     },
     "execution_count": 13,
     "metadata": {},
     "output_type": "execute_result"
    }
   ],
   "source": [
    "df_3 = pd.read_csv(\"./benchmark_results_gurobi_variance.csv\")  # NOTE: relative path!\n",
    "stats = df_3.groupby([\"Benchmark\", \"Solver\"])[[\"Runtime (s)\", \"Memory Usage (MB)\"]].agg(\n",
    "    [\"mean\", \"std\"]\n",
    ")\n",
    "# Calculate the Coefficient of Variation (CV) as (stddev / mean) * 100\n",
    "stats[(\"Runtime (s)\", \"CV\")] = (\n",
    "    stats[(\"Runtime (s)\", \"std\")] / stats[(\"Runtime (s)\", \"mean\")]\n",
    ") * 100\n",
    "stats[(\"Memory Usage (MB)\", \"CV\")] = (\n",
    "    stats[(\"Memory Usage (MB)\", \"std\")] / stats[(\"Memory Usage (MB)\", \"mean\")]\n",
    ") * 100\n",
    "stats = stats.sort_index(axis=1)\n",
    "stats.round(2)"
   ]
  },
  {
   "cell_type": "markdown",
   "metadata": {},
   "source": [
    "The CV here is a bit higher, but still not as high as 30%, so perhaps the above results were an outlier."
   ]
  }
 ],
 "metadata": {
  "kernelspec": {
   "display_name": "venv",
   "language": "python",
   "name": "python3"
  },
  "language_info": {
   "codemirror_mode": {
    "name": "ipython",
    "version": 3
   },
   "file_extension": ".py",
   "mimetype": "text/x-python",
   "name": "python",
   "nbconvert_exporter": "python",
   "pygments_lexer": "ipython3",
   "version": "3.11.6"
  }
 },
 "nbformat": 4,
 "nbformat_minor": 2
}
